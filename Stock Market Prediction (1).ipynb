{
 "cells": [
  {
   "cell_type": "code",
   "execution_count": 1,
   "id": "2c28de30-f073-4639-b8a5-f47d024017cd",
   "metadata": {},
   "outputs": [],
   "source": [
    "import pandas as pd"
   ]
  },
  {
   "cell_type": "code",
   "execution_count": 2,
   "id": "9c48905a-c397-40ef-bc8b-4f95a3b6392f",
   "metadata": {},
   "outputs": [],
   "source": [
    "import numpy as np\n"
   ]
  },
  {
   "cell_type": "code",
   "execution_count": 3,
   "id": "9d54e47d-4406-4f5b-abac-fcf1cbf2076d",
   "metadata": {},
   "outputs": [],
   "source": [
    "import matplotlib.pyplot as plt"
   ]
  },
  {
   "cell_type": "code",
   "execution_count": 4,
   "id": "a22f030f-4448-4e10-a13f-c4e39fe51e52",
   "metadata": {},
   "outputs": [],
   "source": [
    "import yfinance as yf"
   ]
  },
  {
   "cell_type": "code",
   "execution_count": 5,
   "id": "da51aa6b-9693-447f-b4d9-a27a75d609c0",
   "metadata": {},
   "outputs": [
    {
     "name": "stderr",
     "output_type": "stream",
     "text": [
      "/tmp/ipykernel_2780/642626142.py:4: FutureWarning: YF.download() has changed argument auto_adjust default to True\n",
      "  data=yf.download(stock,start,end)\n",
      "[*********************100%***********************]  1 of 1 completed\n"
     ]
    }
   ],
   "source": [
    "start= '2012-01-01'\n",
    "end= '2025-08-22'\n",
    "stock= 'INFOBEAN.NS'\n",
    "data=yf.download(stock,start,end)"
   ]
  },
  {
   "cell_type": "code",
   "execution_count": 6,
   "id": "4043bbea-2916-444a-88db-bc4ac9479b07",
   "metadata": {},
   "outputs": [],
   "source": [
    "data.reset_index(inplace=True)"
   ]
  },
  {
   "cell_type": "code",
   "execution_count": 7,
   "id": "dd537821-4de0-4ec5-aa12-d903eb689177",
   "metadata": {},
   "outputs": [
    {
     "data": {
      "text/html": [
       "<div>\n",
       "<style scoped>\n",
       "    .dataframe tbody tr th:only-of-type {\n",
       "        vertical-align: middle;\n",
       "    }\n",
       "\n",
       "    .dataframe tbody tr th {\n",
       "        vertical-align: top;\n",
       "    }\n",
       "\n",
       "    .dataframe thead tr th {\n",
       "        text-align: left;\n",
       "    }\n",
       "</style>\n",
       "<table border=\"1\" class=\"dataframe\">\n",
       "  <thead>\n",
       "    <tr>\n",
       "      <th>Price</th>\n",
       "      <th>Date</th>\n",
       "      <th>Close</th>\n",
       "      <th>High</th>\n",
       "      <th>Low</th>\n",
       "      <th>Open</th>\n",
       "      <th>Volume</th>\n",
       "    </tr>\n",
       "    <tr>\n",
       "      <th>Ticker</th>\n",
       "      <th></th>\n",
       "      <th>INFOBEAN.NS</th>\n",
       "      <th>INFOBEAN.NS</th>\n",
       "      <th>INFOBEAN.NS</th>\n",
       "      <th>INFOBEAN.NS</th>\n",
       "      <th>INFOBEAN.NS</th>\n",
       "    </tr>\n",
       "  </thead>\n",
       "  <tbody>\n",
       "    <tr>\n",
       "      <th>0</th>\n",
       "      <td>2017-07-24</td>\n",
       "      <td>63.731403</td>\n",
       "      <td>66.127321</td>\n",
       "      <td>63.252220</td>\n",
       "      <td>63.731403</td>\n",
       "      <td>42000</td>\n",
       "    </tr>\n",
       "    <tr>\n",
       "      <th>1</th>\n",
       "      <td>2017-07-25</td>\n",
       "      <td>64.210587</td>\n",
       "      <td>64.689770</td>\n",
       "      <td>63.731403</td>\n",
       "      <td>64.258508</td>\n",
       "      <td>62000</td>\n",
       "    </tr>\n",
       "    <tr>\n",
       "      <th>2</th>\n",
       "      <td>2017-07-26</td>\n",
       "      <td>64.210587</td>\n",
       "      <td>64.306422</td>\n",
       "      <td>63.252220</td>\n",
       "      <td>64.306422</td>\n",
       "      <td>12000</td>\n",
       "    </tr>\n",
       "    <tr>\n",
       "      <th>3</th>\n",
       "      <td>2017-07-27</td>\n",
       "      <td>62.868877</td>\n",
       "      <td>63.731409</td>\n",
       "      <td>62.773042</td>\n",
       "      <td>63.731409</td>\n",
       "      <td>6000</td>\n",
       "    </tr>\n",
       "    <tr>\n",
       "      <th>4</th>\n",
       "      <td>2017-07-28</td>\n",
       "      <td>62.533443</td>\n",
       "      <td>62.533443</td>\n",
       "      <td>62.485522</td>\n",
       "      <td>62.485522</td>\n",
       "      <td>8000</td>\n",
       "    </tr>\n",
       "    <tr>\n",
       "      <th>...</th>\n",
       "      <td>...</td>\n",
       "      <td>...</td>\n",
       "      <td>...</td>\n",
       "      <td>...</td>\n",
       "      <td>...</td>\n",
       "      <td>...</td>\n",
       "    </tr>\n",
       "    <tr>\n",
       "      <th>1992</th>\n",
       "      <td>2025-08-14</td>\n",
       "      <td>627.000000</td>\n",
       "      <td>669.049988</td>\n",
       "      <td>616.000000</td>\n",
       "      <td>656.500000</td>\n",
       "      <td>283052</td>\n",
       "    </tr>\n",
       "    <tr>\n",
       "      <th>1993</th>\n",
       "      <td>2025-08-18</td>\n",
       "      <td>641.200012</td>\n",
       "      <td>648.299988</td>\n",
       "      <td>619.000000</td>\n",
       "      <td>634.950012</td>\n",
       "      <td>73409</td>\n",
       "    </tr>\n",
       "    <tr>\n",
       "      <th>1994</th>\n",
       "      <td>2025-08-19</td>\n",
       "      <td>655.400024</td>\n",
       "      <td>668.000000</td>\n",
       "      <td>637.500000</td>\n",
       "      <td>645.000000</td>\n",
       "      <td>127519</td>\n",
       "    </tr>\n",
       "    <tr>\n",
       "      <th>1995</th>\n",
       "      <td>2025-08-20</td>\n",
       "      <td>675.750000</td>\n",
       "      <td>693.299988</td>\n",
       "      <td>642.000000</td>\n",
       "      <td>664.000000</td>\n",
       "      <td>129460</td>\n",
       "    </tr>\n",
       "    <tr>\n",
       "      <th>1996</th>\n",
       "      <td>2025-08-21</td>\n",
       "      <td>642.299988</td>\n",
       "      <td>688.400024</td>\n",
       "      <td>632.250000</td>\n",
       "      <td>688.400024</td>\n",
       "      <td>81104</td>\n",
       "    </tr>\n",
       "  </tbody>\n",
       "</table>\n",
       "<p>1997 rows × 6 columns</p>\n",
       "</div>"
      ],
      "text/plain": [
       "Price        Date       Close        High         Low        Open      Volume\n",
       "Ticker            INFOBEAN.NS INFOBEAN.NS INFOBEAN.NS INFOBEAN.NS INFOBEAN.NS\n",
       "0      2017-07-24   63.731403   66.127321   63.252220   63.731403       42000\n",
       "1      2017-07-25   64.210587   64.689770   63.731403   64.258508       62000\n",
       "2      2017-07-26   64.210587   64.306422   63.252220   64.306422       12000\n",
       "3      2017-07-27   62.868877   63.731409   62.773042   63.731409        6000\n",
       "4      2017-07-28   62.533443   62.533443   62.485522   62.485522        8000\n",
       "...           ...         ...         ...         ...         ...         ...\n",
       "1992   2025-08-14  627.000000  669.049988  616.000000  656.500000      283052\n",
       "1993   2025-08-18  641.200012  648.299988  619.000000  634.950012       73409\n",
       "1994   2025-08-19  655.400024  668.000000  637.500000  645.000000      127519\n",
       "1995   2025-08-20  675.750000  693.299988  642.000000  664.000000      129460\n",
       "1996   2025-08-21  642.299988  688.400024  632.250000  688.400024       81104\n",
       "\n",
       "[1997 rows x 6 columns]"
      ]
     },
     "execution_count": 7,
     "metadata": {},
     "output_type": "execute_result"
    }
   ],
   "source": [
    "data"
   ]
  },
  {
   "cell_type": "code",
   "execution_count": 8,
   "id": "db9315f0-28e8-40f6-889d-31cc6948fd7c",
   "metadata": {},
   "outputs": [],
   "source": [
    " ma_100_days=data.Close.rolling(100).mean()"
   ]
  },
  {
   "cell_type": "code",
   "execution_count": 9,
   "id": "b9b8ec90-6bc9-4042-90f6-87ec57547183",
   "metadata": {},
   "outputs": [
    {
     "data": {
      "image/png": "[encoded data removed]",
      "text/plain": [
       "<Figure size 800x600 with 1 Axes>"
      ]
     },
     "metadata": {},
     "output_type": "display_data"
    }
   ],
   "source": [
    "plt.figure(figsize=(8,6))\n",
    "plt.plot(data['Close'], 'g', label=\"Close Price\")\n",
    "plt.plot(ma_100_days, 'r', label=\"100-day MA\")\n",
    "plt.legend()\n",
    "plt.show()\n"
   ]
  },
  {
   "cell_type": "code",
   "execution_count": 10,
   "id": "6ecb389c-05a0-483b-b0c2-0e15390320f3",
   "metadata": {},
   "outputs": [],
   "source": [
    " ma_200_days=data.Close.rolling(200).mean()"
   ]
  },
  {
   "cell_type": "code",
   "execution_count": 11,
   "id": "f0b99ff9-a51c-435a-a96c-3f4f5d4b953a",
   "metadata": {},
   "outputs": [
    {
     "data": {
      "image/png": "[encoded data removed]",
      "text/plain": [
       "<Figure size 800x600 with 1 Axes>"
      ]
     },
     "metadata": {},
     "output_type": "display_data"
    }
   ],
   "source": [
    "plt.figure(figsize=(8,6))\n",
    "plt.plot(data['Close'], 'g', label=\"Close Price\")\n",
    "plt.plot(ma_200_days, 'r', label=\"200-day MA\")\n",
    "plt.legend()\n",
    "plt.show()\n"
   ]
  },
  {
   "cell_type": "code",
   "execution_count": 12,
   "id": "5c4442ce-cd9a-46b6-93cc-6ba8b5440dd6",
   "metadata": {},
   "outputs": [],
   "source": [
    "data.dropna(inplace=True)"
   ]
  },
  {
   "cell_type": "code",
   "execution_count": 13,
   "id": "523eaa9c-bdd9-4769-bd17-6a2ec25f1654",
   "metadata": {},
   "outputs": [],
   "source": [
    "# Split data into train and test\n",
    "data_train = pd.DataFrame(data.Close[0:int(len(data)*0.80)])\n",
    "data_test  = pd.DataFrame(data.Close[int(len(data)*0.80):len(data)])\n"
   ]
  },
  {
   "cell_type": "code",
   "execution_count": 14,
   "id": "c5ee22f7-8c24-410f-a9e6-b6ccedcf67cb",
   "metadata": {},
   "outputs": [
    {
     "data": {
      "text/plain": [
       "1597"
      ]
     },
     "execution_count": 14,
     "metadata": {},
     "output_type": "execute_result"
    }
   ],
   "source": [
    "data_train.shape[0]"
   ]
  },
  {
   "cell_type": "code",
   "execution_count": 15,
   "id": "8da9ec3f-d891-4c2f-a46e-7a5265ea4113",
   "metadata": {},
   "outputs": [
    {
     "data": {
      "text/plain": [
       "400"
      ]
     },
     "execution_count": 15,
     "metadata": {},
     "output_type": "execute_result"
    }
   ],
   "source": [
    "data_test.shape[0]"
   ]
  },
  {
   "cell_type": "code",
   "execution_count": 16,
   "id": "edfe9755-4142-4c87-8d54-d2aaf7eafc66",
   "metadata": {},
   "outputs": [],
   "source": [
    "from sklearn.preprocessing import MinMaxScaler  \n",
    "\n",
    "\n"
   ]
  },
  {
   "cell_type": "code",
   "execution_count": 17,
   "id": "151cfb80-888e-4a7a-bd9a-bd2011c50302",
   "metadata": {},
   "outputs": [],
   "source": [
    "# Initialize scaler to scale values between 0 and 1\n",
    "scaler = MinMaxScaler(feature_range=(0, 1))\n"
   ]
  },
  {
   "cell_type": "code",
   "execution_count": 18,
   "id": "cedd725c-f4c7-425a-b34c-0af08622c049",
   "metadata": {},
   "outputs": [],
   "source": [
    "# Fit on training data and transform\n",
    "data_train_scale = scaler.fit_transform(data_train)\n"
   ]
  },
  {
   "cell_type": "code",
   "execution_count": 19,
   "id": "b48dec8b-804b-4064-9bf2-5f54f4d79a7f",
   "metadata": {},
   "outputs": [],
   "source": [
    "x=[]\n",
    "y=[]\n",
    "for i in range (100,data_train_scale.shape[0]):\n",
    "    x.append(data_train_scale[i-100:i])\n",
    "    y.append(data_train_scale[i,0])"
   ]
  },
  {
   "cell_type": "code",
   "execution_count": 20,
   "id": "5edc7548-463d-4550-9305-9c36adcb406d",
   "metadata": {},
   "outputs": [],
   "source": [
    "x,y=np.array(x),np.array(y)\n"
   ]
  },
  {
   "cell_type": "code",
   "execution_count": 21,
   "id": "5011b2a1-31ab-4885-9ff1-efe6420e1cfb",
   "metadata": {},
   "outputs": [
    {
     "name": "stderr",
     "output_type": "stream",
     "text": [
      "2025-08-24 09:43:25.594610: I external/local_xla/xla/tsl/cuda/cudart_stub.cc:31] Could not find cuda drivers on your machine, GPU will not be used.\n",
      "2025-08-24 09:43:25.682586: I tensorflow/core/platform/cpu_feature_guard.cc:210] This TensorFlow binary is optimized to use available CPU instructions in performance-critical operations.\n",
      "To enable the following instructions: AVX2 AVX512F FMA, in other operations, rebuild TensorFlow with the appropriate compiler flags.\n",
      "2025-08-24 09:43:28.341523: I external/local_xla/xla/tsl/cuda/cudart_stub.cc:31] Could not find cuda drivers on your machine, GPU will not be used.\n"
     ]
    }
   ],
   "source": [
    "from tensorflow.keras.layers import Dense, Dropout, LSTM\n",
    "from tensorflow.keras.models import Sequential\n"
   ]
  },
  {
   "cell_type": "code",
   "execution_count": 22,
   "id": "29902749-2407-40eb-bcd2-8d111f52ef7c",
   "metadata": {},
   "outputs": [
    {
     "name": "stdout",
     "output_type": "stream",
     "text": [
      "Defaulting to user installation because normal site-packages is not writeable\n",
      "Looking in links: /usr/share/pip-wheels\n",
      "Requirement already satisfied: tensorflow in ./.local/lib/python3.10/site-packages (2.20.0)\n",
      "Requirement already satisfied: absl-py>=1.0.0 in ./.local/lib/python3.10/site-packages (from tensorflow) (2.3.1)\n",
      "Requirement already satisfied: astunparse>=1.6.0 in ./.local/lib/python3.10/site-packages (from tensorflow) (1.6.3)\n",
      "Requirement already satisfied: flatbuffers>=24.3.25 in ./.local/lib/python3.10/site-packages (from tensorflow) (25.2.10)\n",
      "Requirement already satisfied: gast!=0.5.0,!=0.5.1,!=0.5.2,>=0.2.1 in ./.local/lib/python3.10/site-packages (from tensorflow) (0.6.0)\n",
      "Requirement already satisfied: google_pasta>=0.1.1 in ./.local/lib/python3.10/site-packages (from tensorflow) (0.2.0)\n",
      "Requirement already satisfied: libclang>=13.0.0 in ./.local/lib/python3.10/site-packages (from tensorflow) (18.1.1)\n",
      "Requirement already satisfied: opt_einsum>=2.3.2 in ./.local/lib/python3.10/site-packages (from tensorflow) (3.4.0)\n",
      "Requirement already satisfied: packaging in /opt/conda/envs/anaconda-2024.02-py310/lib/python3.10/site-packages (from tensorflow) (23.2)\n",
      "Requirement already satisfied: protobuf>=5.28.0 in ./.local/lib/python3.10/site-packages (from tensorflow) (6.32.0)\n",
      "Requirement already satisfied: requests<3,>=2.21.0 in /opt/conda/envs/anaconda-2024.02-py310/lib/python3.10/site-packages (from tensorflow) (2.31.0)\n",
      "Requirement already satisfied: setuptools in /opt/conda/envs/anaconda-2024.02-py310/lib/python3.10/site-packages (from tensorflow) (68.2.2)\n",
      "Requirement already satisfied: six>=1.12.0 in /opt/conda/envs/anaconda-2024.02-py310/lib/python3.10/site-packages (from tensorflow) (1.16.0)\n",
      "Requirement already satisfied: termcolor>=1.1.0 in ./.local/lib/python3.10/site-packages (from tensorflow) (3.1.0)\n",
      "Requirement already satisfied: typing_extensions>=3.6.6 in /opt/conda/envs/anaconda-2024.02-py310/lib/python3.10/site-packages (from tensorflow) (4.9.0)\n",
      "Requirement already satisfied: wrapt>=1.11.0 in /opt/conda/envs/anaconda-2024.02-py310/lib/python3.10/site-packages (from tensorflow) (1.14.1)\n",
      "Requirement already satisfied: grpcio<2.0,>=1.24.3 in ./.local/lib/python3.10/site-packages (from tensorflow) (1.74.0)\n",
      "Requirement already satisfied: tensorboard~=2.20.0 in ./.local/lib/python3.10/site-packages (from tensorflow) (2.20.0)\n",
      "Requirement already satisfied: keras>=3.10.0 in ./.local/lib/python3.10/site-packages (from tensorflow) (3.11.3)\n",
      "Requirement already satisfied: numpy>=1.26.0 in /opt/conda/envs/anaconda-2024.02-py310/lib/python3.10/site-packages (from tensorflow) (1.26.4)\n",
      "Requirement already satisfied: h5py>=3.11.0 in ./.local/lib/python3.10/site-packages (from tensorflow) (3.14.0)\n",
      "Requirement already satisfied: ml_dtypes<1.0.0,>=0.5.1 in ./.local/lib/python3.10/site-packages (from tensorflow) (0.5.3)\n",
      "Requirement already satisfied: wheel<1.0,>=0.23.0 in /opt/conda/envs/anaconda-2024.02-py310/lib/python3.10/site-packages (from astunparse>=1.6.0->tensorflow) (0.41.2)\n",
      "Requirement already satisfied: rich in /opt/conda/envs/anaconda-2024.02-py310/lib/python3.10/site-packages (from keras>=3.10.0->tensorflow) (13.3.5)\n",
      "Requirement already satisfied: namex in ./.local/lib/python3.10/site-packages (from keras>=3.10.0->tensorflow) (0.1.0)\n",
      "Requirement already satisfied: optree in ./.local/lib/python3.10/site-packages (from keras>=3.10.0->tensorflow) (0.17.0)\n",
      "Requirement already satisfied: charset-normalizer<4,>=2 in /opt/conda/envs/anaconda-2024.02-py310/lib/python3.10/site-packages (from requests<3,>=2.21.0->tensorflow) (2.0.4)\n",
      "Requirement already satisfied: idna<4,>=2.5 in /opt/conda/envs/anaconda-2024.02-py310/lib/python3.10/site-packages (from requests<3,>=2.21.0->tensorflow) (3.4)\n",
      "Requirement already satisfied: urllib3<3,>=1.21.1 in /opt/conda/envs/anaconda-2024.02-py310/lib/python3.10/site-packages (from requests<3,>=2.21.0->tensorflow) (2.0.7)\n",
      "Requirement already satisfied: certifi>=2017.4.17 in /opt/conda/envs/anaconda-2024.02-py310/lib/python3.10/site-packages (from requests<3,>=2.21.0->tensorflow) (2024.2.2)\n",
      "Requirement already satisfied: markdown>=2.6.8 in /opt/conda/envs/anaconda-2024.02-py310/lib/python3.10/site-packages (from tensorboard~=2.20.0->tensorflow) (3.4.1)\n",
      "Requirement already satisfied: pillow in /opt/conda/envs/anaconda-2024.02-py310/lib/python3.10/site-packages (from tensorboard~=2.20.0->tensorflow) (10.2.0)\n",
      "Requirement already satisfied: tensorboard-data-server<0.8.0,>=0.7.0 in ./.local/lib/python3.10/site-packages (from tensorboard~=2.20.0->tensorflow) (0.7.2)\n",
      "Requirement already satisfied: werkzeug>=1.0.1 in /opt/conda/envs/anaconda-2024.02-py310/lib/python3.10/site-packages (from tensorboard~=2.20.0->tensorflow) (2.2.3)\n",
      "Requirement already satisfied: MarkupSafe>=2.1.1 in /opt/conda/envs/anaconda-2024.02-py310/lib/python3.10/site-packages (from werkzeug>=1.0.1->tensorboard~=2.20.0->tensorflow) (2.1.3)\n",
      "Requirement already satisfied: markdown-it-py<3.0.0,>=2.2.0 in /opt/conda/envs/anaconda-2024.02-py310/lib/python3.10/site-packages (from rich->keras>=3.10.0->tensorflow) (2.2.0)\n",
      "Requirement already satisfied: pygments<3.0.0,>=2.13.0 in /opt/conda/envs/anaconda-2024.02-py310/lib/python3.10/site-packages (from rich->keras>=3.10.0->tensorflow) (2.15.1)\n",
      "Requirement already satisfied: mdurl~=0.1 in /opt/conda/envs/anaconda-2024.02-py310/lib/python3.10/site-packages (from markdown-it-py<3.0.0,>=2.2.0->rich->keras>=3.10.0->tensorflow) (0.1.0)\n"
     ]
    }
   ],
   "source": [
    "!pip install tensorflow\n"
   ]
  },
  {
   "cell_type": "code",
   "execution_count": 23,
   "id": "02814c79-aa6d-4e9a-9a47-87d32a0b47e1",
   "metadata": {},
   "outputs": [
    {
     "name": "stderr",
     "output_type": "stream",
     "text": [
      "2025-08-24 09:43:32.403288: E external/local_xla/xla/stream_executor/cuda/cuda_platform.cc:51] failed call to cuInit: INTERNAL: CUDA error: Failed call to cuInit: UNKNOWN ERROR (303)\n",
      "/home/f5d62ed8-455d-4767-b5d4-e4ad44363999/.local/lib/python3.10/site-packages/keras/src/layers/rnn/rnn.py:199: UserWarning: Do not pass an `input_shape`/`input_dim` argument to a layer. When using Sequential models, prefer using an `Input(shape)` object as the first layer in the model instead.\n",
      "  super().__init__(**kwargs)\n"
     ]
    }
   ],
   "source": [
    "\n",
    "model = Sequential()\n",
    "\n",
    "# First LSTM layer\n",
    "model.add(LSTM(units=50, return_sequences=True, activation='relu', input_shape=(x.shape[1], 1)))\n",
    "model.add(Dropout(0.2))\n",
    "\n",
    "# Second LSTM layer\n",
    "model.add(LSTM(units=60, return_sequences=True, activation='relu'))\n",
    "model.add(Dropout(0.3))\n",
    "\n",
    "# Third LSTM layer\n",
    "model.add(LSTM(units=80, return_sequences=True, activation='relu'))\n",
    "model.add(Dropout(0.4))\n",
    "\n",
    "# Fourth LSTM layer (final, no return_sequences)\n",
    "model.add(LSTM(units=120, activation='relu'))\n",
    "model.add(Dropout(0.5))\n",
    "\n",
    "# Output layer\n",
    "model.add(Dense(units=1))\n",
    "\n",
    "# Compile model\n",
    "model.compile(optimizer='adam', loss='mean_squared_error')\n"
   ]
  },
  {
   "cell_type": "code",
   "execution_count": 24,
   "id": "6f5d8414-a612-461a-86f6-439b51e891c5",
   "metadata": {},
   "outputs": [
    {
     "name": "stdout",
     "output_type": "stream",
     "text": [
      "Epoch 1/50\n",
      "\u001b[1m47/47\u001b[0m \u001b[32m━━━━━━━━━━━━━━━━━━━━\u001b[0m\u001b[37m\u001b[0m \u001b[1m12s\u001b[0m 176ms/step - loss: 0.0410\n",
      "Epoch 2/50\n",
      "\u001b[1m47/47\u001b[0m \u001b[32m━━━━━━━━━━━━━━━━━━━━\u001b[0m\u001b[37m\u001b[0m \u001b[1m8s\u001b[0m 175ms/step - loss: 0.0078\n",
      "Epoch 3/50\n",
      "\u001b[1m47/47\u001b[0m \u001b[32m━━━━━━━━━━━━━━━━━━━━\u001b[0m\u001b[37m\u001b[0m \u001b[1m8s\u001b[0m 165ms/step - loss: 0.0064\n",
      "Epoch 4/50\n",
      "\u001b[1m47/47\u001b[0m \u001b[32m━━━━━━━━━━━━━━━━━━━━\u001b[0m\u001b[37m\u001b[0m \u001b[1m13s\u001b[0m 285ms/step - loss: 0.0067\n",
      "Epoch 5/50\n",
      "\u001b[1m47/47\u001b[0m \u001b[32m━━━━━━━━━━━━━━━━━━━━\u001b[0m\u001b[37m\u001b[0m \u001b[1m8s\u001b[0m 174ms/step - loss: 0.0073\n",
      "Epoch 6/50\n",
      "\u001b[1m47/47\u001b[0m \u001b[32m━━━━━━━━━━━━━━━━━━━━\u001b[0m\u001b[37m\u001b[0m \u001b[1m8s\u001b[0m 169ms/step - loss: 0.0054\n",
      "Epoch 7/50\n",
      "\u001b[1m47/47\u001b[0m \u001b[32m━━━━━━━━━━━━━━━━━━━━\u001b[0m\u001b[37m\u001b[0m \u001b[1m8s\u001b[0m 174ms/step - loss: 0.0060\n",
      "Epoch 8/50\n",
      "\u001b[1m47/47\u001b[0m \u001b[32m━━━━━━━━━━━━━━━━━━━━\u001b[0m\u001b[37m\u001b[0m \u001b[1m8s\u001b[0m 175ms/step - loss: 0.0051\n",
      "Epoch 9/50\n",
      "\u001b[1m47/47\u001b[0m \u001b[32m━━━━━━━━━━━━━━━━━━━━\u001b[0m\u001b[37m\u001b[0m \u001b[1m8s\u001b[0m 170ms/step - loss: 0.0056\n",
      "Epoch 10/50\n",
      "\u001b[1m47/47\u001b[0m \u001b[32m━━━━━━━━━━━━━━━━━━━━\u001b[0m\u001b[37m\u001b[0m \u001b[1m10s\u001b[0m 212ms/step - loss: 0.0052\n",
      "Epoch 11/50\n",
      "\u001b[1m47/47\u001b[0m \u001b[32m━━━━━━━━━━━━━━━━━━━━\u001b[0m\u001b[37m\u001b[0m \u001b[1m11s\u001b[0m 219ms/step - loss: 0.0049\n",
      "Epoch 12/50\n",
      "\u001b[1m47/47\u001b[0m \u001b[32m━━━━━━━━━━━━━━━━━━━━\u001b[0m\u001b[37m\u001b[0m \u001b[1m8s\u001b[0m 167ms/step - loss: 0.0050\n",
      "Epoch 13/50\n",
      "\u001b[1m47/47\u001b[0m \u001b[32m━━━━━━━━━━━━━━━━━━━━\u001b[0m\u001b[37m\u001b[0m \u001b[1m8s\u001b[0m 171ms/step - loss: 0.0049\n",
      "Epoch 14/50\n",
      "\u001b[1m47/47\u001b[0m \u001b[32m━━━━━━━━━━━━━━━━━━━━\u001b[0m\u001b[37m\u001b[0m \u001b[1m8s\u001b[0m 166ms/step - loss: 0.0046\n",
      "Epoch 15/50\n",
      "\u001b[1m47/47\u001b[0m \u001b[32m━━━━━━━━━━━━━━━━━━━━\u001b[0m\u001b[37m\u001b[0m \u001b[1m8s\u001b[0m 165ms/step - loss: 0.0047\n",
      "Epoch 16/50\n",
      "\u001b[1m47/47\u001b[0m \u001b[32m━━━━━━━━━━━━━━━━━━━━\u001b[0m\u001b[37m\u001b[0m \u001b[1m8s\u001b[0m 178ms/step - loss: 0.0045\n",
      "Epoch 17/50\n",
      "\u001b[1m47/47\u001b[0m \u001b[32m━━━━━━━━━━━━━━━━━━━━\u001b[0m\u001b[37m\u001b[0m \u001b[1m9s\u001b[0m 199ms/step - loss: 0.0043\n",
      "Epoch 18/50\n",
      "\u001b[1m47/47\u001b[0m \u001b[32m━━━━━━━━━━━━━━━━━━━━\u001b[0m\u001b[37m\u001b[0m \u001b[1m15s\u001b[0m 323ms/step - loss: 0.0041\n",
      "Epoch 19/50\n",
      "\u001b[1m47/47\u001b[0m \u001b[32m━━━━━━━━━━━━━━━━━━━━\u001b[0m\u001b[37m\u001b[0m \u001b[1m8s\u001b[0m 174ms/step - loss: 0.0036\n",
      "Epoch 20/50\n",
      "\u001b[1m47/47\u001b[0m \u001b[32m━━━━━━━━━━━━━━━━━━━━\u001b[0m\u001b[37m\u001b[0m \u001b[1m8s\u001b[0m 170ms/step - loss: 0.0041\n",
      "Epoch 21/50\n",
      "\u001b[1m47/47\u001b[0m \u001b[32m━━━━━━━━━━━━━━━━━━━━\u001b[0m\u001b[37m\u001b[0m \u001b[1m9s\u001b[0m 196ms/step - loss: 0.0039\n",
      "Epoch 22/50\n",
      "\u001b[1m47/47\u001b[0m \u001b[32m━━━━━━━━━━━━━━━━━━━━\u001b[0m\u001b[37m\u001b[0m \u001b[1m8s\u001b[0m 172ms/step - loss: 0.0039\n",
      "Epoch 23/50\n",
      "\u001b[1m47/47\u001b[0m \u001b[32m━━━━━━━━━━━━━━━━━━━━\u001b[0m\u001b[37m\u001b[0m \u001b[1m9s\u001b[0m 192ms/step - loss: 0.0041\n",
      "Epoch 24/50\n",
      "\u001b[1m47/47\u001b[0m \u001b[32m━━━━━━━━━━━━━━━━━━━━\u001b[0m\u001b[37m\u001b[0m \u001b[1m13s\u001b[0m 281ms/step - loss: 0.0037\n",
      "Epoch 25/50\n",
      "\u001b[1m47/47\u001b[0m \u001b[32m━━━━━━━━━━━━━━━━━━━━\u001b[0m\u001b[37m\u001b[0m \u001b[1m9s\u001b[0m 188ms/step - loss: 0.0042\n",
      "Epoch 26/50\n",
      "\u001b[1m47/47\u001b[0m \u001b[32m━━━━━━━━━━━━━━━━━━━━\u001b[0m\u001b[37m\u001b[0m \u001b[1m8s\u001b[0m 178ms/step - loss: 0.0041\n",
      "Epoch 27/50\n",
      "\u001b[1m47/47\u001b[0m \u001b[32m━━━━━━━━━━━━━━━━━━━━\u001b[0m\u001b[37m\u001b[0m \u001b[1m9s\u001b[0m 185ms/step - loss: 0.0040\n",
      "Epoch 28/50\n",
      "\u001b[1m47/47\u001b[0m \u001b[32m━━━━━━━━━━━━━━━━━━━━\u001b[0m\u001b[37m\u001b[0m \u001b[1m9s\u001b[0m 183ms/step - loss: 0.0037\n",
      "Epoch 29/50\n",
      "\u001b[1m47/47\u001b[0m \u001b[32m━━━━━━━━━━━━━━━━━━━━\u001b[0m\u001b[37m\u001b[0m \u001b[1m10s\u001b[0m 217ms/step - loss: 0.0035\n",
      "Epoch 30/50\n",
      "\u001b[1m47/47\u001b[0m \u001b[32m━━━━━━━━━━━━━━━━━━━━\u001b[0m\u001b[37m\u001b[0m \u001b[1m11s\u001b[0m 237ms/step - loss: 0.0036\n",
      "Epoch 31/50\n",
      "\u001b[1m47/47\u001b[0m \u001b[32m━━━━━━━━━━━━━━━━━━━━\u001b[0m\u001b[37m\u001b[0m \u001b[1m16s\u001b[0m 335ms/step - loss: 0.0035\n",
      "Epoch 32/50\n",
      "\u001b[1m47/47\u001b[0m \u001b[32m━━━━━━━━━━━━━━━━━━━━\u001b[0m\u001b[37m\u001b[0m \u001b[1m11s\u001b[0m 236ms/step - loss: 0.0033\n",
      "Epoch 33/50\n",
      "\u001b[1m47/47\u001b[0m \u001b[32m━━━━━━━━━━━━━━━━━━━━\u001b[0m\u001b[37m\u001b[0m \u001b[1m11s\u001b[0m 239ms/step - loss: 0.0034\n",
      "Epoch 34/50\n",
      "\u001b[1m47/47\u001b[0m \u001b[32m━━━━━━━━━━━━━━━━━━━━\u001b[0m\u001b[37m\u001b[0m \u001b[1m11s\u001b[0m 229ms/step - loss: 0.0033\n",
      "Epoch 35/50\n",
      "\u001b[1m47/47\u001b[0m \u001b[32m━━━━━━━━━━━━━━━━━━━━\u001b[0m\u001b[37m\u001b[0m \u001b[1m19s\u001b[0m 413ms/step - loss: 0.0037\n",
      "Epoch 36/50\n",
      "\u001b[1m47/47\u001b[0m \u001b[32m━━━━━━━━━━━━━━━━━━━━\u001b[0m\u001b[37m\u001b[0m \u001b[1m12s\u001b[0m 249ms/step - loss: 0.0035\n",
      "Epoch 37/50\n",
      "\u001b[1m47/47\u001b[0m \u001b[32m━━━━━━━━━━━━━━━━━━━━\u001b[0m\u001b[37m\u001b[0m \u001b[1m12s\u001b[0m 248ms/step - loss: 0.0033\n",
      "Epoch 38/50\n",
      "\u001b[1m47/47\u001b[0m \u001b[32m━━━━━━━━━━━━━━━━━━━━\u001b[0m\u001b[37m\u001b[0m \u001b[1m9s\u001b[0m 185ms/step - loss: 0.0034\n",
      "Epoch 39/50\n",
      "\u001b[1m47/47\u001b[0m \u001b[32m━━━━━━━━━━━━━━━━━━━━\u001b[0m\u001b[37m\u001b[0m \u001b[1m8s\u001b[0m 164ms/step - loss: 0.0031\n",
      "Epoch 40/50\n",
      "\u001b[1m47/47\u001b[0m \u001b[32m━━━━━━━━━━━━━━━━━━━━\u001b[0m\u001b[37m\u001b[0m \u001b[1m13s\u001b[0m 277ms/step - loss: 0.0032\n",
      "Epoch 41/50\n",
      "\u001b[1m47/47\u001b[0m \u001b[32m━━━━━━━━━━━━━━━━━━━━\u001b[0m\u001b[37m\u001b[0m \u001b[1m8s\u001b[0m 172ms/step - loss: 0.0032\n",
      "Epoch 42/50\n",
      "\u001b[1m47/47\u001b[0m \u001b[32m━━━━━━━━━━━━━━━━━━━━\u001b[0m\u001b[37m\u001b[0m \u001b[1m8s\u001b[0m 165ms/step - loss: 0.0032\n",
      "Epoch 43/50\n",
      "\u001b[1m47/47\u001b[0m \u001b[32m━━━━━━━━━━━━━━━━━━━━\u001b[0m\u001b[37m\u001b[0m \u001b[1m8s\u001b[0m 170ms/step - loss: 0.0036\n",
      "Epoch 44/50\n",
      "\u001b[1m47/47\u001b[0m \u001b[32m━━━━━━━━━━━━━━━━━━━━\u001b[0m\u001b[37m\u001b[0m \u001b[1m8s\u001b[0m 167ms/step - loss: 0.0034\n",
      "Epoch 45/50\n",
      "\u001b[1m47/47\u001b[0m \u001b[32m━━━━━━━━━━━━━━━━━━━━\u001b[0m\u001b[37m\u001b[0m \u001b[1m8s\u001b[0m 168ms/step - loss: 0.0029\n",
      "Epoch 46/50\n",
      "\u001b[1m47/47\u001b[0m \u001b[32m━━━━━━━━━━━━━━━━━━━━\u001b[0m\u001b[37m\u001b[0m \u001b[1m8s\u001b[0m 163ms/step - loss: 0.0032\n",
      "Epoch 47/50\n",
      "\u001b[1m47/47\u001b[0m \u001b[32m━━━━━━━━━━━━━━━━━━━━\u001b[0m\u001b[37m\u001b[0m \u001b[1m10s\u001b[0m 204ms/step - loss: 0.0029\n",
      "Epoch 48/50\n",
      "\u001b[1m47/47\u001b[0m \u001b[32m━━━━━━━━━━━━━━━━━━━━\u001b[0m\u001b[37m\u001b[0m \u001b[1m9s\u001b[0m 184ms/step - loss: 0.0030\n",
      "Epoch 49/50\n",
      "\u001b[1m47/47\u001b[0m \u001b[32m━━━━━━━━━━━━━━━━━━━━\u001b[0m\u001b[37m\u001b[0m \u001b[1m10s\u001b[0m 206ms/step - loss: 0.0028\n",
      "Epoch 50/50\n",
      "\u001b[1m47/47\u001b[0m \u001b[32m━━━━━━━━━━━━━━━━━━━━\u001b[0m\u001b[37m\u001b[0m \u001b[1m47s\u001b[0m 1s/step - loss: 0.0030\n"
     ]
    },
    {
     "data": {
      "text/plain": [
       "<keras.src.callbacks.history.History at 0x79a4fa177550>"
      ]
     },
     "execution_count": 24,
     "metadata": {},
     "output_type": "execute_result"
    }
   ],
   "source": [
    "model.fit(x,y,epochs=50,batch_size=32,verbose=1)"
   ]
  },
  {
   "cell_type": "code",
   "execution_count": 25,
   "id": "6a6746b5-ac6e-4154-9fdb-4cbfd9528add",
   "metadata": {},
   "outputs": [
    {
     "data": {
      "text/html": [
       "<pre style=\"white-space:pre;overflow-x:auto;line-height:normal;font-family:Menlo,'DejaVu Sans Mono',consolas,'Courier New',monospace\"><span style=\"font-weight: bold\">Model: \"sequential\"</span>\n",
       "</pre>\n"
      ],
      "text/plain": [
       "\u001b[1mModel: \"sequential\"\u001b[0m\n"
      ]
     },
     "metadata": {},
     "output_type": "display_data"
    },
    {
     "data": {
      "text/html": [
       "<pre style=\"white-space:pre;overflow-x:auto;line-height:normal;font-family:Menlo,'DejaVu Sans Mono',consolas,'Courier New',monospace\">┏━━━━━━━━━━━━━━━━━━━━━━━━━━━━━━━━━┳━━━━━━━━━━━━━━━━━━━━━━━━┳━━━━━━━━━━━━━━━┓\n",
       "┃<span style=\"font-weight: bold\"> Layer (type)                    </span>┃<span style=\"font-weight: bold\"> Output Shape           </span>┃<span style=\"font-weight: bold\">       Param # </span>┃\n",
       "┡━━━━━━━━━━━━━━━━━━━━━━━━━━━━━━━━━╇━━━━━━━━━━━━━━━━━━━━━━━━╇━━━━━━━━━━━━━━━┩\n",
       "│ lstm (<span style=\"color: #0087ff; text-decoration-color: #0087ff\">LSTM</span>)                     │ (<span style=\"color: #00d7ff; text-decoration-color: #00d7ff\">None</span>, <span style=\"color: #00af00; text-decoration-color: #00af00\">100</span>, <span style=\"color: #00af00; text-decoration-color: #00af00\">50</span>)        │        <span style=\"color: #00af00; text-decoration-color: #00af00\">10,400</span> │\n",
       "├─────────────────────────────────┼────────────────────────┼───────────────┤\n",
       "│ dropout (<span style=\"color: #0087ff; text-decoration-color: #0087ff\">Dropout</span>)               │ (<span style=\"color: #00d7ff; text-decoration-color: #00d7ff\">None</span>, <span style=\"color: #00af00; text-decoration-color: #00af00\">100</span>, <span style=\"color: #00af00; text-decoration-color: #00af00\">50</span>)        │             <span style=\"color: #00af00; text-decoration-color: #00af00\">0</span> │\n",
       "├─────────────────────────────────┼────────────────────────┼───────────────┤\n",
       "│ lstm_1 (<span style=\"color: #0087ff; text-decoration-color: #0087ff\">LSTM</span>)                   │ (<span style=\"color: #00d7ff; text-decoration-color: #00d7ff\">None</span>, <span style=\"color: #00af00; text-decoration-color: #00af00\">100</span>, <span style=\"color: #00af00; text-decoration-color: #00af00\">60</span>)        │        <span style=\"color: #00af00; text-decoration-color: #00af00\">26,640</span> │\n",
       "├─────────────────────────────────┼────────────────────────┼───────────────┤\n",
       "│ dropout_1 (<span style=\"color: #0087ff; text-decoration-color: #0087ff\">Dropout</span>)             │ (<span style=\"color: #00d7ff; text-decoration-color: #00d7ff\">None</span>, <span style=\"color: #00af00; text-decoration-color: #00af00\">100</span>, <span style=\"color: #00af00; text-decoration-color: #00af00\">60</span>)        │             <span style=\"color: #00af00; text-decoration-color: #00af00\">0</span> │\n",
       "├─────────────────────────────────┼────────────────────────┼───────────────┤\n",
       "│ lstm_2 (<span style=\"color: #0087ff; text-decoration-color: #0087ff\">LSTM</span>)                   │ (<span style=\"color: #00d7ff; text-decoration-color: #00d7ff\">None</span>, <span style=\"color: #00af00; text-decoration-color: #00af00\">100</span>, <span style=\"color: #00af00; text-decoration-color: #00af00\">80</span>)        │        <span style=\"color: #00af00; text-decoration-color: #00af00\">45,120</span> │\n",
       "├─────────────────────────────────┼────────────────────────┼───────────────┤\n",
       "│ dropout_2 (<span style=\"color: #0087ff; text-decoration-color: #0087ff\">Dropout</span>)             │ (<span style=\"color: #00d7ff; text-decoration-color: #00d7ff\">None</span>, <span style=\"color: #00af00; text-decoration-color: #00af00\">100</span>, <span style=\"color: #00af00; text-decoration-color: #00af00\">80</span>)        │             <span style=\"color: #00af00; text-decoration-color: #00af00\">0</span> │\n",
       "├─────────────────────────────────┼────────────────────────┼───────────────┤\n",
       "│ lstm_3 (<span style=\"color: #0087ff; text-decoration-color: #0087ff\">LSTM</span>)                   │ (<span style=\"color: #00d7ff; text-decoration-color: #00d7ff\">None</span>, <span style=\"color: #00af00; text-decoration-color: #00af00\">120</span>)            │        <span style=\"color: #00af00; text-decoration-color: #00af00\">96,480</span> │\n",
       "├─────────────────────────────────┼────────────────────────┼───────────────┤\n",
       "│ dropout_3 (<span style=\"color: #0087ff; text-decoration-color: #0087ff\">Dropout</span>)             │ (<span style=\"color: #00d7ff; text-decoration-color: #00d7ff\">None</span>, <span style=\"color: #00af00; text-decoration-color: #00af00\">120</span>)            │             <span style=\"color: #00af00; text-decoration-color: #00af00\">0</span> │\n",
       "├─────────────────────────────────┼────────────────────────┼───────────────┤\n",
       "│ dense (<span style=\"color: #0087ff; text-decoration-color: #0087ff\">Dense</span>)                   │ (<span style=\"color: #00d7ff; text-decoration-color: #00d7ff\">None</span>, <span style=\"color: #00af00; text-decoration-color: #00af00\">1</span>)              │           <span style=\"color: #00af00; text-decoration-color: #00af00\">121</span> │\n",
       "└─────────────────────────────────┴────────────────────────┴───────────────┘\n",
       "</pre>\n"
      ],
      "text/plain": [
       "┏━━━━━━━━━━━━━━━━━━━━━━━━━━━━━━━━━┳━━━━━━━━━━━━━━━━━━━━━━━━┳━━━━━━━━━━━━━━━┓\n",
       "┃\u001b[1m \u001b[0m\u001b[1mLayer (type)                   \u001b[0m\u001b[1m \u001b[0m┃\u001b[1m \u001b[0m\u001b[1mOutput Shape          \u001b[0m\u001b[1m \u001b[0m┃\u001b[1m \u001b[0m\u001b[1m      Param #\u001b[0m\u001b[1m \u001b[0m┃\n",
       "┡━━━━━━━━━━━━━━━━━━━━━━━━━━━━━━━━━╇━━━━━━━━━━━━━━━━━━━━━━━━╇━━━━━━━━━━━━━━━┩\n",
       "│ lstm (\u001b[38;5;33mLSTM\u001b[0m)                     │ (\u001b[38;5;45mNone\u001b[0m, \u001b[38;5;34m100\u001b[0m, \u001b[38;5;34m50\u001b[0m)        │        \u001b[38;5;34m10,400\u001b[0m │\n",
       "├─────────────────────────────────┼────────────────────────┼───────────────┤\n",
       "│ dropout (\u001b[38;5;33mDropout\u001b[0m)               │ (\u001b[38;5;45mNone\u001b[0m, \u001b[38;5;34m100\u001b[0m, \u001b[38;5;34m50\u001b[0m)        │             \u001b[38;5;34m0\u001b[0m │\n",
       "├─────────────────────────────────┼────────────────────────┼───────────────┤\n",
       "│ lstm_1 (\u001b[38;5;33mLSTM\u001b[0m)                   │ (\u001b[38;5;45mNone\u001b[0m, \u001b[38;5;34m100\u001b[0m, \u001b[38;5;34m60\u001b[0m)        │        \u001b[38;5;34m26,640\u001b[0m │\n",
       "├─────────────────────────────────┼────────────────────────┼───────────────┤\n",
       "│ dropout_1 (\u001b[38;5;33mDropout\u001b[0m)             │ (\u001b[38;5;45mNone\u001b[0m, \u001b[38;5;34m100\u001b[0m, \u001b[38;5;34m60\u001b[0m)        │             \u001b[38;5;34m0\u001b[0m │\n",
       "├─────────────────────────────────┼────────────────────────┼───────────────┤\n",
       "│ lstm_2 (\u001b[38;5;33mLSTM\u001b[0m)                   │ (\u001b[38;5;45mNone\u001b[0m, \u001b[38;5;34m100\u001b[0m, \u001b[38;5;34m80\u001b[0m)        │        \u001b[38;5;34m45,120\u001b[0m │\n",
       "├─────────────────────────────────┼────────────────────────┼───────────────┤\n",
       "│ dropout_2 (\u001b[38;5;33mDropout\u001b[0m)             │ (\u001b[38;5;45mNone\u001b[0m, \u001b[38;5;34m100\u001b[0m, \u001b[38;5;34m80\u001b[0m)        │             \u001b[38;5;34m0\u001b[0m │\n",
       "├─────────────────────────────────┼────────────────────────┼───────────────┤\n",
       "│ lstm_3 (\u001b[38;5;33mLSTM\u001b[0m)                   │ (\u001b[38;5;45mNone\u001b[0m, \u001b[38;5;34m120\u001b[0m)            │        \u001b[38;5;34m96,480\u001b[0m │\n",
       "├─────────────────────────────────┼────────────────────────┼───────────────┤\n",
       "│ dropout_3 (\u001b[38;5;33mDropout\u001b[0m)             │ (\u001b[38;5;45mNone\u001b[0m, \u001b[38;5;34m120\u001b[0m)            │             \u001b[38;5;34m0\u001b[0m │\n",
       "├─────────────────────────────────┼────────────────────────┼───────────────┤\n",
       "│ dense (\u001b[38;5;33mDense\u001b[0m)                   │ (\u001b[38;5;45mNone\u001b[0m, \u001b[38;5;34m1\u001b[0m)              │           \u001b[38;5;34m121\u001b[0m │\n",
       "└─────────────────────────────────┴────────────────────────┴───────────────┘\n"
      ]
     },
     "metadata": {},
     "output_type": "display_data"
    },
    {
     "data": {
      "text/html": [
       "<pre style=\"white-space:pre;overflow-x:auto;line-height:normal;font-family:Menlo,'DejaVu Sans Mono',consolas,'Courier New',monospace\"><span style=\"font-weight: bold\"> Total params: </span><span style=\"color: #00af00; text-decoration-color: #00af00\">536,285</span> (2.05 MB)\n",
       "</pre>\n"
      ],
      "text/plain": [
       "\u001b[1m Total params: \u001b[0m\u001b[38;5;34m536,285\u001b[0m (2.05 MB)\n"
      ]
     },
     "metadata": {},
     "output_type": "display_data"
    },
    {
     "data": {
      "text/html": [
       "<pre style=\"white-space:pre;overflow-x:auto;line-height:normal;font-family:Menlo,'DejaVu Sans Mono',consolas,'Courier New',monospace\"><span style=\"font-weight: bold\"> Trainable params: </span><span style=\"color: #00af00; text-decoration-color: #00af00\">178,761</span> (698.29 KB)\n",
       "</pre>\n"
      ],
      "text/plain": [
       "\u001b[1m Trainable params: \u001b[0m\u001b[38;5;34m178,761\u001b[0m (698.29 KB)\n"
      ]
     },
     "metadata": {},
     "output_type": "display_data"
    },
    {
     "data": {
      "text/html": [
       "<pre style=\"white-space:pre;overflow-x:auto;line-height:normal;font-family:Menlo,'DejaVu Sans Mono',consolas,'Courier New',monospace\"><span style=\"font-weight: bold\"> Non-trainable params: </span><span style=\"color: #00af00; text-decoration-color: #00af00\">0</span> (0.00 B)\n",
       "</pre>\n"
      ],
      "text/plain": [
       "\u001b[1m Non-trainable params: \u001b[0m\u001b[38;5;34m0\u001b[0m (0.00 B)\n"
      ]
     },
     "metadata": {},
     "output_type": "display_data"
    },
    {
     "data": {
      "text/html": [
       "<pre style=\"white-space:pre;overflow-x:auto;line-height:normal;font-family:Menlo,'DejaVu Sans Mono',consolas,'Courier New',monospace\"><span style=\"font-weight: bold\"> Optimizer params: </span><span style=\"color: #00af00; text-decoration-color: #00af00\">357,524</span> (1.36 MB)\n",
       "</pre>\n"
      ],
      "text/plain": [
       "\u001b[1m Optimizer params: \u001b[0m\u001b[38;5;34m357,524\u001b[0m (1.36 MB)\n"
      ]
     },
     "metadata": {},
     "output_type": "display_data"
    }
   ],
   "source": [
    "model.summary()"
   ]
  },
  {
   "cell_type": "code",
   "execution_count": 26,
   "id": "12582ff5-d688-4188-be33-de721d0e8a86",
   "metadata": {},
   "outputs": [],
   "source": [
    "pas_100_days= data_train.tail(100)"
   ]
  },
  {
   "cell_type": "code",
   "execution_count": 27,
   "id": "30a57dab-79a9-4f83-8767-e7318b5eecb7",
   "metadata": {},
   "outputs": [],
   "source": [
    "data_test=pd.concat([pas_100_days,data_test],ignore_index=True)"
   ]
  },
  {
   "cell_type": "code",
   "execution_count": 28,
   "id": "8c3c8d3d-8092-4bb1-b538-3fe3475da1f1",
   "metadata": {},
   "outputs": [],
   "source": [
    "data_test_scale= scaler.fit_transform(data_test)"
   ]
  },
  {
   "cell_type": "code",
   "execution_count": 29,
   "id": "04bc3f8d-3afa-4a93-81d0-18aca10585a5",
   "metadata": {},
   "outputs": [],
   "source": [
    "x = []\n",
    "y = []\n",
    "\n",
    "for i in range(100, data_test_scale.shape[0]):\n",
    "    x.append(data_test_scale[i-100:i])\n",
    "    y.append(data_test_scale[i, 0])\n",
    "\n",
    "# Convert lists to numpy arrays after the loop\n",
    "x, y = np.array(x), np.array(y)\n"
   ]
  },
  {
   "cell_type": "code",
   "execution_count": 30,
   "id": "e5d70b29-3bb8-4cd7-9920-11ffb0ff3173",
   "metadata": {},
   "outputs": [
    {
     "name": "stdout",
     "output_type": "stream",
     "text": [
      "\u001b[1m13/13\u001b[0m \u001b[32m━━━━━━━━━━━━━━━━━━━━\u001b[0m\u001b[37m\u001b[0m \u001b[1m11s\u001b[0m 658ms/step\n"
     ]
    }
   ],
   "source": [
    "y_predict=model.predict(x)"
   ]
  },
  {
   "cell_type": "code",
   "execution_count": 31,
   "id": "d8495a10-270d-4fe8-806c-3501a8c63197",
   "metadata": {},
   "outputs": [
    {
     "data": {
      "text/plain": [
       "array([[0.4317279 ],\n",
       "       [0.4299757 ],\n",
       "       [0.42830276],\n",
       "       [0.42695332],\n",
       "       [0.4261257 ],\n",
       "       [0.42606372],\n",
       "       [0.42663372],\n",
       "       [0.42755306],\n",
       "       [0.428553  ],\n",
       "       [0.42944854],\n",
       "       [0.43001622],\n",
       "       [0.42990506],\n",
       "       [0.42891395],\n",
       "       [0.4271586 ],\n",
       "       [0.4246778 ],\n",
       "       [0.42160946],\n",
       "       [0.4181794 ],\n",
       "       [0.41460848],\n",
       "       [0.4111218 ],\n",
       "       [0.40791076],\n",
       "       [0.4050643 ],\n",
       "       [0.40265214],\n",
       "       [0.400662  ],\n",
       "       [0.39904746],\n",
       "       [0.39775264],\n",
       "       [0.39674616],\n",
       "       [0.39599192],\n",
       "       [0.39550006],\n",
       "       [0.39520365],\n",
       "       [0.3950172 ],\n",
       "       [0.394827  ],\n",
       "       [0.3946063 ],\n",
       "       [0.39430976],\n",
       "       [0.39384896],\n",
       "       [0.39317924],\n",
       "       [0.39226592],\n",
       "       [0.39111274],\n",
       "       [0.38974673],\n",
       "       [0.38821757],\n",
       "       [0.3865857 ],\n",
       "       [0.3847978 ],\n",
       "       [0.38275003],\n",
       "       [0.3803924 ],\n",
       "       [0.37772036],\n",
       "       [0.37468946],\n",
       "       [0.37119377],\n",
       "       [0.3672158 ],\n",
       "       [0.3628881 ],\n",
       "       [0.3583222 ],\n",
       "       [0.35362136],\n",
       "       [0.34889528],\n",
       "       [0.34424007],\n",
       "       [0.33971712],\n",
       "       [0.33538032],\n",
       "       [0.3311478 ],\n",
       "       [0.32708606],\n",
       "       [0.32353237],\n",
       "       [0.32086158],\n",
       "       [0.31930384],\n",
       "       [0.3189726 ],\n",
       "       [0.31964543],\n",
       "       [0.32104462],\n",
       "       [0.32289284],\n",
       "       [0.32514593],\n",
       "       [0.32765377],\n",
       "       [0.33031547],\n",
       "       [0.3329373 ],\n",
       "       [0.33520973],\n",
       "       [0.3369422 ],\n",
       "       [0.3380527 ],\n",
       "       [0.33854198],\n",
       "       [0.33846456],\n",
       "       [0.33793747],\n",
       "       [0.3371244 ],\n",
       "       [0.33614928],\n",
       "       [0.33505085],\n",
       "       [0.33383328],\n",
       "       [0.33245945],\n",
       "       [0.33185607],\n",
       "       [0.33269376],\n",
       "       [0.33474606],\n",
       "       [0.33757383],\n",
       "       [0.34101054],\n",
       "       [0.34479403],\n",
       "       [0.3487922 ],\n",
       "       [0.35286668],\n",
       "       [0.35692915],\n",
       "       [0.36080754],\n",
       "       [0.36428803],\n",
       "       [0.36725205],\n",
       "       [0.36959946],\n",
       "       [0.3712697 ],\n",
       "       [0.37228793],\n",
       "       [0.3728139 ],\n",
       "       [0.37290937],\n",
       "       [0.37261122],\n",
       "       [0.371965  ],\n",
       "       [0.3709187 ],\n",
       "       [0.3695836 ],\n",
       "       [0.36851588],\n",
       "       [0.3686617 ],\n",
       "       [0.37038672],\n",
       "       [0.37375838],\n",
       "       [0.37880358],\n",
       "       [0.38628703],\n",
       "       [0.39689732],\n",
       "       [0.4093528 ],\n",
       "       [0.42152107],\n",
       "       [0.43208438],\n",
       "       [0.44079927],\n",
       "       [0.44761604],\n",
       "       [0.45233095],\n",
       "       [0.45504355],\n",
       "       [0.45594627],\n",
       "       [0.45543373],\n",
       "       [0.45408165],\n",
       "       [0.45234865],\n",
       "       [0.45056337],\n",
       "       [0.4490836 ],\n",
       "       [0.448183  ],\n",
       "       [0.44761503],\n",
       "       [0.44699806],\n",
       "       [0.44600272],\n",
       "       [0.44456995],\n",
       "       [0.44297647],\n",
       "       [0.44139165],\n",
       "       [0.43994468],\n",
       "       [0.43852285],\n",
       "       [0.43694365],\n",
       "       [0.43527758],\n",
       "       [0.4336307 ],\n",
       "       [0.43199646],\n",
       "       [0.4303554 ],\n",
       "       [0.4286992 ],\n",
       "       [0.42704773],\n",
       "       [0.42546496],\n",
       "       [0.4240144 ],\n",
       "       [0.4226946 ],\n",
       "       [0.42141676],\n",
       "       [0.4199342 ],\n",
       "       [0.4179772 ],\n",
       "       [0.415502  ],\n",
       "       [0.41267008],\n",
       "       [0.40966743],\n",
       "       [0.4066978 ],\n",
       "       [0.40386534],\n",
       "       [0.40115452],\n",
       "       [0.3986056 ],\n",
       "       [0.39625463],\n",
       "       [0.39421287],\n",
       "       [0.392618  ],\n",
       "       [0.39156985],\n",
       "       [0.39148456],\n",
       "       [0.39288026],\n",
       "       [0.39578474],\n",
       "       [0.40002757],\n",
       "       [0.4055935 ],\n",
       "       [0.41205698],\n",
       "       [0.41841903],\n",
       "       [0.423701  ],\n",
       "       [0.42742458],\n",
       "       [0.4297354 ],\n",
       "       [0.430847  ],\n",
       "       [0.43084526],\n",
       "       [0.42994165],\n",
       "       [0.4282604 ],\n",
       "       [0.42605293],\n",
       "       [0.4236989 ],\n",
       "       [0.42146748],\n",
       "       [0.41952527],\n",
       "       [0.41787535],\n",
       "       [0.41640884],\n",
       "       [0.41502416],\n",
       "       [0.41368347],\n",
       "       [0.41237596],\n",
       "       [0.41105366],\n",
       "       [0.40973467],\n",
       "       [0.40855992],\n",
       "       [0.40753898],\n",
       "       [0.4066731 ],\n",
       "       [0.40587676],\n",
       "       [0.40503407],\n",
       "       [0.40393654],\n",
       "       [0.40248734],\n",
       "       [0.40073615],\n",
       "       [0.3988105 ],\n",
       "       [0.39682418],\n",
       "       [0.39497492],\n",
       "       [0.3932752 ],\n",
       "       [0.39166057],\n",
       "       [0.39010978],\n",
       "       [0.3885513 ],\n",
       "       [0.38686657],\n",
       "       [0.3848791 ],\n",
       "       [0.3825305 ],\n",
       "       [0.37977827],\n",
       "       [0.37660313],\n",
       "       [0.3735377 ],\n",
       "       [0.37118566],\n",
       "       [0.3698817 ],\n",
       "       [0.36961144],\n",
       "       [0.3703041 ],\n",
       "       [0.37172467],\n",
       "       [0.37396628],\n",
       "       [0.37735555],\n",
       "       [0.38159555],\n",
       "       [0.38623142],\n",
       "       [0.39070624],\n",
       "       [0.3946545 ],\n",
       "       [0.39785144],\n",
       "       [0.4003305 ],\n",
       "       [0.40217203],\n",
       "       [0.4035399 ],\n",
       "       [0.40450168],\n",
       "       [0.4051298 ],\n",
       "       [0.40545112],\n",
       "       [0.40564114],\n",
       "       [0.40584016],\n",
       "       [0.40605563],\n",
       "       [0.40624958],\n",
       "       [0.40644753],\n",
       "       [0.40668488],\n",
       "       [0.40719748],\n",
       "       [0.4081822 ],\n",
       "       [0.40930524],\n",
       "       [0.41043088],\n",
       "       [0.41186923],\n",
       "       [0.41412234],\n",
       "       [0.41733444],\n",
       "       [0.4212011 ],\n",
       "       [0.42522475],\n",
       "       [0.42863458],\n",
       "       [0.43088004],\n",
       "       [0.43181676],\n",
       "       [0.4314692 ],\n",
       "       [0.43004793],\n",
       "       [0.42777753],\n",
       "       [0.42476875],\n",
       "       [0.42134768],\n",
       "       [0.41765916],\n",
       "       [0.41386193],\n",
       "       [0.41021365],\n",
       "       [0.40694255],\n",
       "       [0.404419  ],\n",
       "       [0.40273613],\n",
       "       [0.4018817 ],\n",
       "       [0.40176278],\n",
       "       [0.40217495],\n",
       "       [0.4027907 ],\n",
       "       [0.40304184],\n",
       "       [0.40267783],\n",
       "       [0.40166318],\n",
       "       [0.40011293],\n",
       "       [0.3981464 ],\n",
       "       [0.39599755],\n",
       "       [0.39384145],\n",
       "       [0.3917241 ],\n",
       "       [0.38970953],\n",
       "       [0.38778213],\n",
       "       [0.3857394 ],\n",
       "       [0.38291758],\n",
       "       [0.37880683],\n",
       "       [0.37315196],\n",
       "       [0.36611062],\n",
       "       [0.35805246],\n",
       "       [0.34907323],\n",
       "       [0.33890444],\n",
       "       [0.3274601 ],\n",
       "       [0.31518078],\n",
       "       [0.30268347],\n",
       "       [0.29016793],\n",
       "       [0.27719843],\n",
       "       [0.2634409 ],\n",
       "       [0.24887277],\n",
       "       [0.23312572],\n",
       "       [0.2168156 ],\n",
       "       [0.20117797],\n",
       "       [0.18716103],\n",
       "       [0.17545713],\n",
       "       [0.16622439],\n",
       "       [0.15920465],\n",
       "       [0.15372844],\n",
       "       [0.1489543 ],\n",
       "       [0.14417751],\n",
       "       [0.13864414],\n",
       "       [0.13212879],\n",
       "       [0.12492668],\n",
       "       [0.11772037],\n",
       "       [0.11124279],\n",
       "       [0.10608879],\n",
       "       [0.10216223],\n",
       "       [0.09912091],\n",
       "       [0.09674154],\n",
       "       [0.09472007],\n",
       "       [0.09281024],\n",
       "       [0.09113888],\n",
       "       [0.08990451],\n",
       "       [0.08926289],\n",
       "       [0.08921392],\n",
       "       [0.08958048],\n",
       "       [0.08981511],\n",
       "       [0.0893418 ],\n",
       "       [0.08772719],\n",
       "       [0.08508782],\n",
       "       [0.08175705],\n",
       "       [0.07816817],\n",
       "       [0.07456829],\n",
       "       [0.07087947],\n",
       "       [0.06708618],\n",
       "       [0.0631437 ],\n",
       "       [0.05919485],\n",
       "       [0.05560076],\n",
       "       [0.05282356],\n",
       "       [0.05118884],\n",
       "       [0.05081485],\n",
       "       [0.05171435],\n",
       "       [0.05369358],\n",
       "       [0.05648398],\n",
       "       [0.05967455],\n",
       "       [0.06283666],\n",
       "       [0.06564985],\n",
       "       [0.06785904],\n",
       "       [0.06944163],\n",
       "       [0.07048646],\n",
       "       [0.07112332],\n",
       "       [0.07138869],\n",
       "       [0.07115002],\n",
       "       [0.0704789 ],\n",
       "       [0.06960632],\n",
       "       [0.06953703],\n",
       "       [0.07170248],\n",
       "       [0.07658498],\n",
       "       [0.08391783],\n",
       "       [0.09301901],\n",
       "       [0.10305324],\n",
       "       [0.11326332],\n",
       "       [0.12319612],\n",
       "       [0.13256916],\n",
       "       [0.14124182],\n",
       "       [0.14952175],\n",
       "       [0.15820462],\n",
       "       [0.16741063],\n",
       "       [0.17691457],\n",
       "       [0.1863541 ],\n",
       "       [0.19557658],\n",
       "       [0.204411  ],\n",
       "       [0.21269487],\n",
       "       [0.2203302 ],\n",
       "       [0.22771023],\n",
       "       [0.23514158],\n",
       "       [0.24282488],\n",
       "       [0.2506681 ],\n",
       "       [0.2585235 ],\n",
       "       [0.26612008],\n",
       "       [0.27326107],\n",
       "       [0.27975908],\n",
       "       [0.2853046 ],\n",
       "       [0.28979528],\n",
       "       [0.29322842],\n",
       "       [0.29570308],\n",
       "       [0.29744613],\n",
       "       [0.29860312],\n",
       "       [0.29930386],\n",
       "       [0.29966065],\n",
       "       [0.29977435],\n",
       "       [0.2997245 ],\n",
       "       [0.2995899 ],\n",
       "       [0.2994393 ],\n",
       "       [0.29930568],\n",
       "       [0.29913557],\n",
       "       [0.29887223],\n",
       "       [0.29841828],\n",
       "       [0.29775077],\n",
       "       [0.2968575 ],\n",
       "       [0.29579344],\n",
       "       [0.29475674],\n",
       "       [0.29404354],\n",
       "       [0.29445785],\n",
       "       [0.2970787 ],\n",
       "       [0.30267143],\n",
       "       [0.31398576],\n",
       "       [0.3369851 ],\n",
       "       [0.37303454],\n",
       "       [0.4191205 ],\n",
       "       [0.4738441 ],\n",
       "       [0.5328558 ],\n",
       "       [0.589104  ],\n",
       "       [0.6339368 ],\n",
       "       [0.6641383 ],\n",
       "       [0.6797243 ],\n",
       "       [0.68475753],\n",
       "       [0.68373215],\n",
       "       [0.6798777 ],\n",
       "       [0.6742531 ],\n",
       "       [0.66934377],\n",
       "       [0.67032635],\n",
       "       [0.6790329 ],\n",
       "       [0.69550866],\n",
       "       [0.7188286 ],\n",
       "       [0.7480491 ]], dtype=float32)"
      ]
     },
     "execution_count": 31,
     "metadata": {},
     "output_type": "execute_result"
    }
   ],
   "source": [
    "y_predict"
   ]
  },
  {
   "cell_type": "code",
   "execution_count": 32,
   "id": "fddb7f42-d2e5-4172-9fe9-0ee38b7c6400",
   "metadata": {},
   "outputs": [],
   "source": [
    "scale=1/scaler.scale_"
   ]
  },
  {
   "cell_type": "code",
   "execution_count": 33,
   "id": "46944192-cc8e-4ee8-bd69-36214aac185b",
   "metadata": {},
   "outputs": [],
   "source": [
    "y_predict=y_predict*scale"
   ]
  },
  {
   "cell_type": "code",
   "execution_count": 34,
   "id": "4e6ca2b0-15ed-41d6-8f12-feb3c42f84a0",
   "metadata": {},
   "outputs": [],
   "source": [
    "y=y*scale"
   ]
  },
  {
   "cell_type": "code",
   "execution_count": 35,
   "id": "a3f90fea-8eec-4653-8b69-952664c9f651",
   "metadata": {},
   "outputs": [
    {
     "data": {
      "image/png": "[encoded data removed]",
      "text/plain": [
       "<Figure size 1000x800 with 1 Axes>"
      ]
     },
     "metadata": {},
     "output_type": "display_data"
    }
   ],
   "source": [
    "plt.figure(figsize=(10,8))\n",
    "plt.plot(y_predict,'r',label='Predicted_Price')\n",
    "plt.plot(y,'g',label='Original Price')\n",
    "plt.xlabel('Time')\n",
    "plt.ylabel('Price')\n",
    "plt.legend()\n",
    "plt.show()\n",
    "         "
   ]
  },
  {
   "cell_type": "code",
   "execution_count": 36,
   "id": "df097853-1ff8-42a3-8430-f13f28da41bb",
   "metadata": {},
   "outputs": [],
   "source": [
    "model.save('Stock Prediction Model.keras') "
   ]
  },
  {
   "cell_type": "code",
   "execution_count": null,
   "id": "8239fa8a-73c4-45ae-a8bd-c510c6beb6c0",
   "metadata": {},
   "outputs": [],
   "source": []
  }
 ],
 "metadata": {
  "kernelspec": {
   "display_name": "anaconda-2024.02-py310",
   "language": "python",
   "name": "conda-env-anaconda-2024.02-py310-py"
  },
  "language_info": {
   "codemirror_mode": {
    "name": "ipython",
    "version": 3
   },
   "file_extension": ".py",
   "mimetype": "text/x-python",
   "name": "python",
   "nbconvert_exporter": "python",
   "pygments_lexer": "ipython3",
   "version": "3.10.14"
  }
 },
 "nbformat": 4,
 "nbformat_minor": 5
}
